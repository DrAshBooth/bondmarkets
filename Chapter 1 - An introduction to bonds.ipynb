{
 "cells": [
  {
   "cell_type": "markdown",
   "metadata": {},
   "source": [
    "# The time value of money\n",
    "The notion that moeny has a time value is basic to the analysis of financial instruments. Money has a time value because of the opportunity to invest it at a rate of interest. \n",
    "\n",
    "## Simple interest\n",
    "A loan that make one interest payment at maturity is accruing *simple interest*. Short term instruments are usually such loans. Hence, the lenders receive simple interest when the intsrument expires. The formula for deriving *terminal*, or *future*, value of an investment with simple interest is:\n",
    "\n",
    "$$\n",
    "FV = PV(1+r)\n",
    "$$\n",
    "\n",
    "where\n",
    "* FV = The future value of the instrument\n",
    "* PV = The present value of the invesment\n",
    "*  r = The interest rate "
   ]
  },
  {
   "cell_type": "code",
   "execution_count": 6,
   "metadata": {
    "collapsed": false
   },
   "outputs": [
    {
     "name": "stdout",
     "output_type": "stream",
     "text": [
      "Value of $100 in 1 year with annualised interest of 6%: 106.0\n"
     ]
    }
   ],
   "source": [
    "def simple_future_value(present_value, interest):\n",
    "    return present_value*(1+interest)\n",
    "\n",
    "print('Value of $100 in 1 year with annualised interest of 6%: {}'.format(simple_future_value(100, 0.06)))"
   ]
  },
  {
   "cell_type": "markdown",
   "metadata": {},
   "source": [
    "To calculate the terinal value of a short term inverstment - one with a term of less that a year - accruing simple interest:\n",
    "\n",
    "$$\n",
    "FV = PV \\left[1+r\\left(\\frac{days}{Year}\\right)\\right]\n",
    "$$\n",
    "\n",
    "where\n",
    "* r = The annualised rate of interest\n",
    "* days = The term of the investment in days\n",
    "* Year = The number of days in a year\n",
    "\n",
    "Note that in sterling markets the number of days in the year is taken to be 365, but most other markets - including the dolar Euro markets - use a 360 day year."
   ]
  },
  {
   "cell_type": "code",
   "execution_count": 9,
   "metadata": {
    "collapsed": false
   },
   "outputs": [
    {
     "name": "stdout",
     "output_type": "stream",
     "text": [
      "Value of $100 in 3 months with annualised interest of 6%:  101.47945205479452\n"
     ]
    }
   ],
   "source": [
    "def shortterm_simple_future_value(present_value, interest, days, year):\n",
    "    return present_value*(1+interest*(days/float(year)))\n",
    "\n",
    "q = 'Value of $100 in 3 months with annualised interest of 6%: '\n",
    "print(q , shortterm_simple_future_value(100, 0.06, 90, 365))"
   ]
  },
  {
   "cell_type": "markdown",
   "metadata": {},
   "source": [
    "## Compound Interest\n",
    "Now consider an investment that earns a fixe rate of return each year but that is invested for mny years. This illustrates the principal of compounding: earning interest on interest. The equation for calculating a furute value with compounding interest is given below:\n",
    "\n",
    "$$\n",
    "FV = PV(1+r)^n\n",
    "$$\n",
    "where\n",
    "* r = The periodic rate of interest (expressed as a decimal)\n",
    "* n = the number of periods for which the sum is invested\n",
    "\n",
    "Now, consider an instrument where the rate is quoted as annualised but the compounding occurs more frequently. In gneral, if compounding takes place *m* times a year, then at the end of *n* years, *mn* interest payments will have been made and the future value of hte investment is calculated as:\n",
    "\n",
    "$$\n",
    "FV = PV \\left( 1 + \\frac{r}{m}\\right)^{mn} \n",
    "$$\n",
    "\n",
    "As an example, let's compare the future value of an intrument that compaounds annually comared to monthly:"
   ]
  },
  {
   "cell_type": "code",
   "execution_count": 12,
   "metadata": {
    "collapsed": false
   },
   "outputs": [
    {
     "name": "stdout",
     "output_type": "stream",
     "text": [
      "Value of $100 in 1 year with interest of 6% compounding annually:  106.0\n",
      "Value of $100 in 1 year with interest of 6% compounding monthly:  106.16778118644983\n"
     ]
    }
   ],
   "source": [
    "def compound_future_value(present_value, interest, compound_intervals, years):\n",
    "    return present_value*(1+interest/float(compound_intervals))**(compound_intervals*years)\n",
    "\n",
    "q1 = 'Value of $100 in 1 year with interest of 6% compounding annually: '\n",
    "q2 = 'Value of $100 in 1 year with interest of 6% compounding monthly: '\n",
    "print(q1 , compound_future_value(100, 0.06, 1, 1))\n",
    "print(q2 , compound_future_value(100, 0.06, 12, 1))"
   ]
  },
  {
   "cell_type": "markdown",
   "metadata": {},
   "source": [
    "Clearly, the more frequent the compounding, the higher the annualised interst rate. To define the limit where m tends to infinity (continuous compounding) it is useful to rewrite the above equation as:\n",
    "\n",
    "\\begin{align}\n",
    "FV &= PV \\left[ \\left( 1 + \\frac{r}{m}\\right)^{m/r} \\right]^{nr} \\\\\n",
    "&= PV \\left[ \\left( 1 + \\frac{1}{m/r}\\right)^{m/r} \\right]^{nr} \\\\\n",
    "&= PV \\left[ \\left( 1 + \\frac{1}{w}\\right)^{w} \\right]^{nr} \\\\\n",
    "\\end{align}\n",
    "\n",
    "where $w=\\frac{m}{r}$\n",
    "\n",
    "With continous compounding, $m$ and hence $w$ approach infinity, and the expression in the square brackets, above, approaches the mathematical constant $e$. Substituting $e$ into the equation above gives:\n",
    "\n",
    "$$\n",
    "FV = PVe^{rn}\n",
    "$$"
   ]
  },
  {
   "cell_type": "code",
   "execution_count": 7,
   "metadata": {
    "collapsed": false
   },
   "outputs": [
    {
     "name": "stdout",
     "output_type": "stream",
     "text": [
      "Value of $100 in 1 year with interest of 6% compounding continuously:  106.183654655\n"
     ]
    }
   ],
   "source": [
    "import numpy as np\n",
    "def continuous_compound_future_value(present_value, interest, years):\n",
    "    return present_value*np.exp(interest*years)\n",
    "\n",
    "q1 = 'Value of $100 in 1 year with interest of 6% compounding continuously: '\n",
    "print(q1 , continuous_compound_future_value(100, 0.06, 1))"
   ]
  },
  {
   "cell_type": "markdown",
   "metadata": {},
   "source": [
    "Naturally, these equations can be rearranged to calculate the present value of investments.\n",
    "\n",
    "The present value of an investment earning annual interest payments of $r$ over $n$ years that pays out FV is calculated as:\n",
    "\n",
    "$$ \n",
    "PV = \\frac{FV}{(1+r)^n}\n",
    "$$\n",
    "\n",
    "For short term investments, we must prorate the interest that would be earned over the whole year over the number of days in the investment period:\n",
    "\n",
    "$$\n",
    "PV = \\frac{FV}{1+r\\left(\\frac{days}{Year}\\right)}\n",
    "$$\n",
    "\n",
    "When the interest is compounded more than once aa year, the formula is modified:\n",
    "\n",
    "$$\n",
    "PV = \\frac{FV}{\\left( 1 + \\frac{r}{m}\\right)^{mn}}\n",
    "$$"
   ]
  },
  {
   "cell_type": "code",
   "execution_count": 14,
   "metadata": {
    "collapsed": false
   },
   "outputs": [
    {
     "name": "stdout",
     "output_type": "stream",
     "text": [
      "Current value of and investment that will pay out $100 in 5 years\n",
      "assuming a fixed interest rate of 5% compounded quarterly: 78.00085483221805\n"
     ]
    }
   ],
   "source": [
    "def compound_present_value(future_value, interest, compound_intervals, years):\n",
    "    return future_value/(1+interest/float(compound_intervals))**(compound_intervals*years)\n",
    "\n",
    "q1 = \"\"\"Current value of and investment that will pay out $100 in 5 years\n",
    "assuming a fixed interest rate of 5% compounded quarterly:\"\"\"\n",
    "print(q1 , compound_present_value(100, 0.05, 4, 5))"
   ]
  },
  {
   "cell_type": "markdown",
   "metadata": {},
   "source": [
    "Interst rates in money markets are always quoted for standard maturities such as: overnight, tom next, spot next, one week, one month, two months and so on, up to a year. If a customer wishes to borrow for borrow for a non-standard period or 'odd-date'the bank will calculate the rate by interpolating between two standard periods. \n",
    "\n",
    "Assuming a steady uniform increase betwen standard periods, the rate can be calculated as:\n",
    "\n",
    "$$\n",
    "r = r_1 + (r_2-r_1)\\times\\left(\\frac{n-n_1}{n_2-n_1}\\right)\n",
    "$$\n",
    "\n",
    "where\n",
    "\\begin{align}\n",
    "r &= \\text{The required odd rate for n days} \\\\\n",
    "r_1 &= \\text{The quoted rate for } n_1 \\text{ days} \\\\\n",
    "r_2 &= \\text{The quoted rate for } n_2 \\text{ days} \\\\\n",
    "\\end{align}\n",
    "\n",
    "# Discount factors and bootstrapping the discount function\n",
    "An n-period discount factor is the present value of one unit of currency that is payable at the end of period n. A discont factor for any period is given by:\n",
    "\n",
    "$$\n",
    "d_n = \\frac{1}{(1+r)^n}\n",
    "$$\n",
    "\n",
    "where n = the period of discount\n",
    "\n",
    "# Bond Pricing and yield: The traditional approach\n",
    "The discount rate used to derive the present value of a bond's cash flows is the interest rate that bond holders require as compensation for the risk of lending money to the issuer. The yield investors require on a bond deends on a number of politacal and economic factors, including what other bonds in the same class are yielding.\n",
    "\n",
    "Yield is always quoted as an anualised interest rate. This means that the rate used to discount the cash flows of a bond paying semiannual coupons is exactly half the bond's yield.\n",
    "\n",
    "## Bond pricing\n",
    "The fair price of a bond is the sum of the present value of all of it's cash flows, including the coupon payments and the redemption payment. The price of a bon that pays annual coupons can therefore be expressed as:\n",
    "\n",
    "\\begin{align}\n",
    "P &= \\frac{C}{1+r} + \\frac{C}{(1+r)^2} + \\ldots + \\frac{C}{(1+r)^N} + \\frac{M}{(1+r)^N} \\\\\n",
    "& = \\sum^N_{n=1} \\frac{C}{(1+r)^n} + \\frac{M}{(1+r)^N}\n",
    "\\end{align}\n",
    "where\n",
    "\\begin{align}\n",
    "P &= \\text{The bond's fair price} \\\\\n",
    "C &= \\text{The annual coupon payment} \\\\\n",
    "r &= \\text{The discount rate or the required yield} \\\\\n",
    "N &= \\text{The number of years to maturity} \\\\\n",
    "M &= \\text{The maturity payment, or par value, which is usually 100% of the face value}\n",
    "\\end{align}"
   ]
  },
  {
   "cell_type": "code",
   "execution_count": null,
   "metadata": {
    "collapsed": true
   },
   "outputs": [],
   "source": []
  }
 ],
 "metadata": {
  "kernelspec": {
   "display_name": "Python 3",
   "language": "python",
   "name": "python3"
  },
  "language_info": {
   "codemirror_mode": {
    "name": "ipython",
    "version": 3
   },
   "file_extension": ".py",
   "mimetype": "text/x-python",
   "name": "python",
   "nbconvert_exporter": "python",
   "pygments_lexer": "ipython3",
   "version": "3.5.1"
  }
 },
 "nbformat": 4,
 "nbformat_minor": 0
}
